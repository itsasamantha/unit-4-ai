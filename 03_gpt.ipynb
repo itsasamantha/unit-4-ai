{
 "cells": [
  {
   "attachments": {},
   "cell_type": "markdown",
   "metadata": {},
   "source": [
    "# GPT2 Large Language Model"
   ]
  },
  {
   "cell_type": "code",
   "execution_count": 1,
   "metadata": {},
   "outputs": [],
   "source": [
    "import gpt_2_simple as gpt2"
   ]
  },
  {
   "cell_type": "code",
   "execution_count": 14,
   "metadata": {},
   "outputs": [
    {
     "name": "stderr",
     "output_type": "stream",
     "text": [
      "Fetching checkpoint: 1.05Mit [00:00, 3.44Git/s]                                                     \n",
      "Fetching encoder.json: 1.05Mit [00:02, 357kit/s]                                                    \n",
      "Fetching hparams.json: 1.05Mit [00:00, 5.40Git/s]                                                   \n",
      "Fetching model.ckpt.data-00000-of-00001: 498Mit [23:15, 357kit/s]                                   \n",
      "Fetching model.ckpt.index: 1.05Mit [00:00, 5.52Git/s]                                               \n",
      "Fetching model.ckpt.meta: 1.05Mit [00:01, 824kit/s]                                                 \n",
      "Fetching vocab.bpe: 1.05Mit [00:01, 854kit/s]                                                       \n"
     ]
    }
   ],
   "source": [
    "gpt2.download_gpt2(\n",
    "    model_name = \"124M\"\n",
    ")"
   ]
  },
  {
   "cell_type": "code",
   "execution_count": 17,
   "metadata": {},
   "outputs": [
    {
     "name": "stdout",
     "output_type": "stream",
     "text": [
      "Loading pretrained model models/124M/model.ckpt\n",
      "INFO:tensorflow:Restoring parameters from models/124M/model.ckpt\n"
     ]
    },
    {
     "name": "stderr",
     "output_type": "stream",
     "text": [
      "2024-11-25 10:05:49.761829: W tensorflow/core/framework/op_kernel.cc:1841] OP_REQUIRES failed at save_restore_v2_ops.cc:233 : NOT_FOUND: Key Variable not found in checkpoint\n",
      "2024-11-25 10:05:49.761849: I tensorflow/core/framework/local_rendezvous.cc:405] Local rendezvous is aborting with status: NOT_FOUND: Key Variable not found in checkpoint\n",
      "\t [[{{node save_1/RestoreV2}}]]\n"
     ]
    },
    {
     "ename": "NotFoundError",
     "evalue": "Restoring from checkpoint failed. This is most likely due to a Variable name or other graph key that is missing from the checkpoint. Please ensure that you have not altered the graph expected based on the checkpoint. Original error:\n\nGraph execution error:\n\nDetected at node 'save_1/RestoreV2' defined at (most recent call last):\n    File \"/opt/homebrew/Cellar/python@3.10/3.10.9/Frameworks/Python.framework/Versions/3.10/lib/python3.10/runpy.py\", line 196, in _run_module_as_main\n    File \"/opt/homebrew/Cellar/python@3.10/3.10.9/Frameworks/Python.framework/Versions/3.10/lib/python3.10/runpy.py\", line 86, in _run_code\n    File \"/Users/Cohort23/Library/Python/3.10/lib/python/site-packages/ipykernel_launcher.py\", line 18, in <module>\n    File \"/Users/Cohort23/Library/Python/3.10/lib/python/site-packages/traitlets/config/application.py\", line 1075, in launch_instance\n    File \"/Users/Cohort23/Library/Python/3.10/lib/python/site-packages/ipykernel/kernelapp.py\", line 739, in start\n    File \"/Users/Cohort23/Library/Python/3.10/lib/python/site-packages/tornado/platform/asyncio.py\", line 205, in start\n    File \"/opt/homebrew/Cellar/python@3.10/3.10.9/Frameworks/Python.framework/Versions/3.10/lib/python3.10/asyncio/base_events.py\", line 603, in run_forever\n    File \"/opt/homebrew/Cellar/python@3.10/3.10.9/Frameworks/Python.framework/Versions/3.10/lib/python3.10/asyncio/base_events.py\", line 1906, in _run_once\n    File \"/opt/homebrew/Cellar/python@3.10/3.10.9/Frameworks/Python.framework/Versions/3.10/lib/python3.10/asyncio/events.py\", line 80, in _run\n    File \"/Users/Cohort23/Library/Python/3.10/lib/python/site-packages/ipykernel/kernelbase.py\", line 545, in dispatch_queue\n    File \"/Users/Cohort23/Library/Python/3.10/lib/python/site-packages/ipykernel/kernelbase.py\", line 534, in process_one\n    File \"/Users/Cohort23/Library/Python/3.10/lib/python/site-packages/ipykernel/kernelbase.py\", line 437, in dispatch_shell\n    File \"/Users/Cohort23/Library/Python/3.10/lib/python/site-packages/ipykernel/ipkernel.py\", line 362, in execute_request\n    File \"/Users/Cohort23/Library/Python/3.10/lib/python/site-packages/ipykernel/kernelbase.py\", line 778, in execute_request\n    File \"/Users/Cohort23/Library/Python/3.10/lib/python/site-packages/ipykernel/ipkernel.py\", line 449, in do_execute\n    File \"/Users/Cohort23/Library/Python/3.10/lib/python/site-packages/ipykernel/zmqshell.py\", line 549, in run_cell\n    File \"/Users/Cohort23/Library/Python/3.10/lib/python/site-packages/IPython/core/interactiveshell.py\", line 3075, in run_cell\n    File \"/Users/Cohort23/Library/Python/3.10/lib/python/site-packages/IPython/core/interactiveshell.py\", line 3130, in _run_cell\n    File \"/Users/Cohort23/Library/Python/3.10/lib/python/site-packages/IPython/core/async_helpers.py\", line 128, in _pseudo_sync_runner\n    File \"/Users/Cohort23/Library/Python/3.10/lib/python/site-packages/IPython/core/interactiveshell.py\", line 3334, in run_cell_async\n    File \"/Users/Cohort23/Library/Python/3.10/lib/python/site-packages/IPython/core/interactiveshell.py\", line 3517, in run_ast_nodes\n    File \"/Users/Cohort23/Library/Python/3.10/lib/python/site-packages/IPython/core/interactiveshell.py\", line 3577, in run_code\n    File \"/var/folders/8p/pcrgjd_n0wzclzb5tr97jd540000gr/T/ipykernel_95122/1060501748.py\", line 2, in <module>\n    File \"/Users/Cohort23/Library/Python/3.10/lib/python/site-packages/gpt_2_simple/gpt_2.py\", line 401, in load_gpt2\nNode: 'save_1/RestoreV2'\nKey Variable not found in checkpoint\n\t [[{{node save_1/RestoreV2}}]]\n\nOriginal stack trace for 'save_1/RestoreV2':\n  File \"/opt/homebrew/Cellar/python@3.10/3.10.9/Frameworks/Python.framework/Versions/3.10/lib/python3.10/runpy.py\", line 196, in _run_module_as_main\n  File \"/opt/homebrew/Cellar/python@3.10/3.10.9/Frameworks/Python.framework/Versions/3.10/lib/python3.10/runpy.py\", line 86, in _run_code\n  File \"/Users/Cohort23/Library/Python/3.10/lib/python/site-packages/ipykernel_launcher.py\", line 18, in <module>\n  File \"/Users/Cohort23/Library/Python/3.10/lib/python/site-packages/traitlets/config/application.py\", line 1075, in launch_instance\n  File \"/Users/Cohort23/Library/Python/3.10/lib/python/site-packages/ipykernel/kernelapp.py\", line 739, in start\n  File \"/Users/Cohort23/Library/Python/3.10/lib/python/site-packages/tornado/platform/asyncio.py\", line 205, in start\n  File \"/opt/homebrew/Cellar/python@3.10/3.10.9/Frameworks/Python.framework/Versions/3.10/lib/python3.10/asyncio/base_events.py\", line 603, in run_forever\n  File \"/opt/homebrew/Cellar/python@3.10/3.10.9/Frameworks/Python.framework/Versions/3.10/lib/python3.10/asyncio/base_events.py\", line 1906, in _run_once\n  File \"/opt/homebrew/Cellar/python@3.10/3.10.9/Frameworks/Python.framework/Versions/3.10/lib/python3.10/asyncio/events.py\", line 80, in _run\n  File \"/Users/Cohort23/Library/Python/3.10/lib/python/site-packages/ipykernel/kernelbase.py\", line 545, in dispatch_queue\n  File \"/Users/Cohort23/Library/Python/3.10/lib/python/site-packages/ipykernel/kernelbase.py\", line 534, in process_one\n  File \"/Users/Cohort23/Library/Python/3.10/lib/python/site-packages/ipykernel/kernelbase.py\", line 437, in dispatch_shell\n  File \"/Users/Cohort23/Library/Python/3.10/lib/python/site-packages/ipykernel/ipkernel.py\", line 362, in execute_request\n  File \"/Users/Cohort23/Library/Python/3.10/lib/python/site-packages/ipykernel/kernelbase.py\", line 778, in execute_request\n  File \"/Users/Cohort23/Library/Python/3.10/lib/python/site-packages/ipykernel/ipkernel.py\", line 449, in do_execute\n  File \"/Users/Cohort23/Library/Python/3.10/lib/python/site-packages/ipykernel/zmqshell.py\", line 549, in run_cell\n  File \"/Users/Cohort23/Library/Python/3.10/lib/python/site-packages/IPython/core/interactiveshell.py\", line 3075, in run_cell\n  File \"/Users/Cohort23/Library/Python/3.10/lib/python/site-packages/IPython/core/interactiveshell.py\", line 3130, in _run_cell\n  File \"/Users/Cohort23/Library/Python/3.10/lib/python/site-packages/IPython/core/async_helpers.py\", line 128, in _pseudo_sync_runner\n  File \"/Users/Cohort23/Library/Python/3.10/lib/python/site-packages/IPython/core/interactiveshell.py\", line 3334, in run_cell_async\n  File \"/Users/Cohort23/Library/Python/3.10/lib/python/site-packages/IPython/core/interactiveshell.py\", line 3517, in run_ast_nodes\n  File \"/Users/Cohort23/Library/Python/3.10/lib/python/site-packages/IPython/core/interactiveshell.py\", line 3577, in run_code\n  File \"/var/folders/8p/pcrgjd_n0wzclzb5tr97jd540000gr/T/ipykernel_95122/1060501748.py\", line 2, in <module>\n  File \"/Users/Cohort23/Library/Python/3.10/lib/python/site-packages/gpt_2_simple/gpt_2.py\", line 401, in load_gpt2\n  File \"/Users/Cohort23/Library/Python/3.10/lib/python/site-packages/tensorflow/python/training/saver.py\", line 934, in __init__\n  File \"/Users/Cohort23/Library/Python/3.10/lib/python/site-packages/tensorflow/python/training/saver.py\", line 946, in build\n  File \"/Users/Cohort23/Library/Python/3.10/lib/python/site-packages/tensorflow/python/training/saver.py\", line 974, in _build\n  File \"/Users/Cohort23/Library/Python/3.10/lib/python/site-packages/tensorflow/python/training/saver.py\", line 543, in _build_internal\n  File \"/Users/Cohort23/Library/Python/3.10/lib/python/site-packages/tensorflow/python/training/saver.py\", line 360, in _AddRestoreOps\n  File \"/Users/Cohort23/Library/Python/3.10/lib/python/site-packages/tensorflow/python/training/saver.py\", line 611, in bulk_restore\n  File \"/Users/Cohort23/Library/Python/3.10/lib/python/site-packages/tensorflow/python/ops/gen_io_ops.py\", line 1522, in restore_v2\n  File \"/Users/Cohort23/Library/Python/3.10/lib/python/site-packages/tensorflow/python/framework/op_def_library.py\", line 796, in _apply_op_helper\n  File \"/Users/Cohort23/Library/Python/3.10/lib/python/site-packages/tensorflow/python/framework/ops.py\", line 2701, in _create_op_internal\n  File \"/Users/Cohort23/Library/Python/3.10/lib/python/site-packages/tensorflow/python/framework/ops.py\", line 1196, in from_node_def\n",
     "output_type": "error",
     "traceback": [
      "\u001b[0;31m---------------------------------------------------------------------------\u001b[0m",
      "\u001b[0;31mNotFoundError\u001b[0m                             Traceback (most recent call last)",
      "File \u001b[0;32m~/Library/Python/3.10/lib/python/site-packages/tensorflow/python/client/session.py:1407\u001b[0m, in \u001b[0;36mBaseSession._do_call\u001b[0;34m(self, fn, *args)\u001b[0m\n\u001b[1;32m   1406\u001b[0m \u001b[39mtry\u001b[39;00m:\n\u001b[0;32m-> 1407\u001b[0m   \u001b[39mreturn\u001b[39;00m fn(\u001b[39m*\u001b[39;49margs)\n\u001b[1;32m   1408\u001b[0m \u001b[39mexcept\u001b[39;00m errors\u001b[39m.\u001b[39mOpError \u001b[39mas\u001b[39;00m e:\n",
      "File \u001b[0;32m~/Library/Python/3.10/lib/python/site-packages/tensorflow/python/client/session.py:1390\u001b[0m, in \u001b[0;36mBaseSession._do_run.<locals>._run_fn\u001b[0;34m(feed_dict, fetch_list, target_list, options, run_metadata)\u001b[0m\n\u001b[1;32m   1389\u001b[0m \u001b[39mself\u001b[39m\u001b[39m.\u001b[39m_extend_graph()\n\u001b[0;32m-> 1390\u001b[0m \u001b[39mreturn\u001b[39;00m \u001b[39mself\u001b[39;49m\u001b[39m.\u001b[39;49m_call_tf_sessionrun(options, feed_dict, fetch_list,\n\u001b[1;32m   1391\u001b[0m                                 target_list, run_metadata)\n",
      "File \u001b[0;32m~/Library/Python/3.10/lib/python/site-packages/tensorflow/python/client/session.py:1483\u001b[0m, in \u001b[0;36mBaseSession._call_tf_sessionrun\u001b[0;34m(self, options, feed_dict, fetch_list, target_list, run_metadata)\u001b[0m\n\u001b[1;32m   1481\u001b[0m \u001b[39mdef\u001b[39;00m \u001b[39m_call_tf_sessionrun\u001b[39m(\u001b[39mself\u001b[39m, options, feed_dict, fetch_list, target_list,\n\u001b[1;32m   1482\u001b[0m                         run_metadata):\n\u001b[0;32m-> 1483\u001b[0m   \u001b[39mreturn\u001b[39;00m tf_session\u001b[39m.\u001b[39;49mTF_SessionRun_wrapper(\u001b[39mself\u001b[39;49m\u001b[39m.\u001b[39;49m_session, options, feed_dict,\n\u001b[1;32m   1484\u001b[0m                                           fetch_list, target_list,\n\u001b[1;32m   1485\u001b[0m                                           run_metadata)\n",
      "\u001b[0;31mNotFoundError\u001b[0m: Key Variable not found in checkpoint\n\t [[{{node save_1/RestoreV2}}]]",
      "\nDuring handling of the above exception, another exception occurred:\n",
      "\u001b[0;31mNotFoundError\u001b[0m                             Traceback (most recent call last)",
      "File \u001b[0;32m~/Library/Python/3.10/lib/python/site-packages/tensorflow/python/training/saver.py:1422\u001b[0m, in \u001b[0;36mSaver.restore\u001b[0;34m(self, sess, save_path)\u001b[0m\n\u001b[1;32m   1421\u001b[0m   \u001b[39melse\u001b[39;00m:\n\u001b[0;32m-> 1422\u001b[0m     sess\u001b[39m.\u001b[39;49mrun(\u001b[39mself\u001b[39;49m\u001b[39m.\u001b[39;49msaver_def\u001b[39m.\u001b[39;49mrestore_op_name,\n\u001b[1;32m   1423\u001b[0m              {\u001b[39mself\u001b[39;49m\u001b[39m.\u001b[39;49msaver_def\u001b[39m.\u001b[39;49mfilename_tensor_name: save_path})\n\u001b[1;32m   1424\u001b[0m \u001b[39mexcept\u001b[39;00m errors\u001b[39m.\u001b[39mNotFoundError \u001b[39mas\u001b[39;00m err:\n\u001b[1;32m   1425\u001b[0m   \u001b[39m# There are three common conditions that might cause this error:\u001b[39;00m\n\u001b[1;32m   1426\u001b[0m   \u001b[39m# 0. The file is missing. We ignore here, as this is checked above.\u001b[39;00m\n\u001b[0;32m   (...)\u001b[0m\n\u001b[1;32m   1430\u001b[0m   \u001b[39m# 1. The checkpoint would not be loaded successfully as is. Try to parse\u001b[39;00m\n\u001b[1;32m   1431\u001b[0m   \u001b[39m# it as an object-based checkpoint.\u001b[39;00m\n",
      "File \u001b[0;32m~/Library/Python/3.10/lib/python/site-packages/tensorflow/python/client/session.py:977\u001b[0m, in \u001b[0;36mBaseSession.run\u001b[0;34m(self, fetches, feed_dict, options, run_metadata)\u001b[0m\n\u001b[1;32m    976\u001b[0m \u001b[39mtry\u001b[39;00m:\n\u001b[0;32m--> 977\u001b[0m   result \u001b[39m=\u001b[39m \u001b[39mself\u001b[39;49m\u001b[39m.\u001b[39;49m_run(\u001b[39mNone\u001b[39;49;00m, fetches, feed_dict, options_ptr,\n\u001b[1;32m    978\u001b[0m                      run_metadata_ptr)\n\u001b[1;32m    979\u001b[0m   \u001b[39mif\u001b[39;00m run_metadata:\n",
      "File \u001b[0;32m~/Library/Python/3.10/lib/python/site-packages/tensorflow/python/client/session.py:1220\u001b[0m, in \u001b[0;36mBaseSession._run\u001b[0;34m(self, handle, fetches, feed_dict, options, run_metadata)\u001b[0m\n\u001b[1;32m   1219\u001b[0m \u001b[39mif\u001b[39;00m final_fetches \u001b[39mor\u001b[39;00m final_targets \u001b[39mor\u001b[39;00m (handle \u001b[39mand\u001b[39;00m feed_dict_tensor):\n\u001b[0;32m-> 1220\u001b[0m   results \u001b[39m=\u001b[39m \u001b[39mself\u001b[39;49m\u001b[39m.\u001b[39;49m_do_run(handle, final_targets, final_fetches,\n\u001b[1;32m   1221\u001b[0m                          feed_dict_tensor, options, run_metadata)\n\u001b[1;32m   1222\u001b[0m \u001b[39melse\u001b[39;00m:\n",
      "File \u001b[0;32m~/Library/Python/3.10/lib/python/site-packages/tensorflow/python/client/session.py:1400\u001b[0m, in \u001b[0;36mBaseSession._do_run\u001b[0;34m(self, handle, target_list, fetch_list, feed_dict, options, run_metadata)\u001b[0m\n\u001b[1;32m   1399\u001b[0m \u001b[39mif\u001b[39;00m handle \u001b[39mis\u001b[39;00m \u001b[39mNone\u001b[39;00m:\n\u001b[0;32m-> 1400\u001b[0m   \u001b[39mreturn\u001b[39;00m \u001b[39mself\u001b[39;49m\u001b[39m.\u001b[39;49m_do_call(_run_fn, feeds, fetches, targets, options,\n\u001b[1;32m   1401\u001b[0m                        run_metadata)\n\u001b[1;32m   1402\u001b[0m \u001b[39melse\u001b[39;00m:\n",
      "File \u001b[0;32m~/Library/Python/3.10/lib/python/site-packages/tensorflow/python/client/session.py:1426\u001b[0m, in \u001b[0;36mBaseSession._do_call\u001b[0;34m(self, fn, *args)\u001b[0m\n\u001b[1;32m   1422\u001b[0m   message \u001b[39m+\u001b[39m\u001b[39m=\u001b[39m (\u001b[39m'\u001b[39m\u001b[39m\\n\u001b[39;00m\u001b[39mA possible workaround: Try disabling Grappler optimizer\u001b[39m\u001b[39m'\u001b[39m\n\u001b[1;32m   1423\u001b[0m               \u001b[39m'\u001b[39m\u001b[39m\\n\u001b[39;00m\u001b[39mby modifying the config for creating the session eg.\u001b[39m\u001b[39m'\u001b[39m\n\u001b[1;32m   1424\u001b[0m               \u001b[39m'\u001b[39m\u001b[39m\\n\u001b[39;00m\u001b[39msession_config.graph_options.rewrite_options.\u001b[39m\u001b[39m'\u001b[39m\n\u001b[1;32m   1425\u001b[0m               \u001b[39m'\u001b[39m\u001b[39mdisable_meta_optimizer = True\u001b[39m\u001b[39m'\u001b[39m)\n\u001b[0;32m-> 1426\u001b[0m \u001b[39mraise\u001b[39;00m \u001b[39mtype\u001b[39m(e)(node_def, op, message)\n",
      "\u001b[0;31mNotFoundError\u001b[0m: Graph execution error:\n\nDetected at node 'save_1/RestoreV2' defined at (most recent call last):\n    File \"/opt/homebrew/Cellar/python@3.10/3.10.9/Frameworks/Python.framework/Versions/3.10/lib/python3.10/runpy.py\", line 196, in _run_module_as_main\n    File \"/opt/homebrew/Cellar/python@3.10/3.10.9/Frameworks/Python.framework/Versions/3.10/lib/python3.10/runpy.py\", line 86, in _run_code\n    File \"/Users/Cohort23/Library/Python/3.10/lib/python/site-packages/ipykernel_launcher.py\", line 18, in <module>\n    File \"/Users/Cohort23/Library/Python/3.10/lib/python/site-packages/traitlets/config/application.py\", line 1075, in launch_instance\n    File \"/Users/Cohort23/Library/Python/3.10/lib/python/site-packages/ipykernel/kernelapp.py\", line 739, in start\n    File \"/Users/Cohort23/Library/Python/3.10/lib/python/site-packages/tornado/platform/asyncio.py\", line 205, in start\n    File \"/opt/homebrew/Cellar/python@3.10/3.10.9/Frameworks/Python.framework/Versions/3.10/lib/python3.10/asyncio/base_events.py\", line 603, in run_forever\n    File \"/opt/homebrew/Cellar/python@3.10/3.10.9/Frameworks/Python.framework/Versions/3.10/lib/python3.10/asyncio/base_events.py\", line 1906, in _run_once\n    File \"/opt/homebrew/Cellar/python@3.10/3.10.9/Frameworks/Python.framework/Versions/3.10/lib/python3.10/asyncio/events.py\", line 80, in _run\n    File \"/Users/Cohort23/Library/Python/3.10/lib/python/site-packages/ipykernel/kernelbase.py\", line 545, in dispatch_queue\n    File \"/Users/Cohort23/Library/Python/3.10/lib/python/site-packages/ipykernel/kernelbase.py\", line 534, in process_one\n    File \"/Users/Cohort23/Library/Python/3.10/lib/python/site-packages/ipykernel/kernelbase.py\", line 437, in dispatch_shell\n    File \"/Users/Cohort23/Library/Python/3.10/lib/python/site-packages/ipykernel/ipkernel.py\", line 362, in execute_request\n    File \"/Users/Cohort23/Library/Python/3.10/lib/python/site-packages/ipykernel/kernelbase.py\", line 778, in execute_request\n    File \"/Users/Cohort23/Library/Python/3.10/lib/python/site-packages/ipykernel/ipkernel.py\", line 449, in do_execute\n    File \"/Users/Cohort23/Library/Python/3.10/lib/python/site-packages/ipykernel/zmqshell.py\", line 549, in run_cell\n    File \"/Users/Cohort23/Library/Python/3.10/lib/python/site-packages/IPython/core/interactiveshell.py\", line 3075, in run_cell\n    File \"/Users/Cohort23/Library/Python/3.10/lib/python/site-packages/IPython/core/interactiveshell.py\", line 3130, in _run_cell\n    File \"/Users/Cohort23/Library/Python/3.10/lib/python/site-packages/IPython/core/async_helpers.py\", line 128, in _pseudo_sync_runner\n    File \"/Users/Cohort23/Library/Python/3.10/lib/python/site-packages/IPython/core/interactiveshell.py\", line 3334, in run_cell_async\n    File \"/Users/Cohort23/Library/Python/3.10/lib/python/site-packages/IPython/core/interactiveshell.py\", line 3517, in run_ast_nodes\n    File \"/Users/Cohort23/Library/Python/3.10/lib/python/site-packages/IPython/core/interactiveshell.py\", line 3577, in run_code\n    File \"/var/folders/8p/pcrgjd_n0wzclzb5tr97jd540000gr/T/ipykernel_95122/1060501748.py\", line 2, in <module>\n    File \"/Users/Cohort23/Library/Python/3.10/lib/python/site-packages/gpt_2_simple/gpt_2.py\", line 401, in load_gpt2\nNode: 'save_1/RestoreV2'\nKey Variable not found in checkpoint\n\t [[{{node save_1/RestoreV2}}]]\n\nOriginal stack trace for 'save_1/RestoreV2':\n  File \"/opt/homebrew/Cellar/python@3.10/3.10.9/Frameworks/Python.framework/Versions/3.10/lib/python3.10/runpy.py\", line 196, in _run_module_as_main\n  File \"/opt/homebrew/Cellar/python@3.10/3.10.9/Frameworks/Python.framework/Versions/3.10/lib/python3.10/runpy.py\", line 86, in _run_code\n  File \"/Users/Cohort23/Library/Python/3.10/lib/python/site-packages/ipykernel_launcher.py\", line 18, in <module>\n  File \"/Users/Cohort23/Library/Python/3.10/lib/python/site-packages/traitlets/config/application.py\", line 1075, in launch_instance\n  File \"/Users/Cohort23/Library/Python/3.10/lib/python/site-packages/ipykernel/kernelapp.py\", line 739, in start\n  File \"/Users/Cohort23/Library/Python/3.10/lib/python/site-packages/tornado/platform/asyncio.py\", line 205, in start\n  File \"/opt/homebrew/Cellar/python@3.10/3.10.9/Frameworks/Python.framework/Versions/3.10/lib/python3.10/asyncio/base_events.py\", line 603, in run_forever\n  File \"/opt/homebrew/Cellar/python@3.10/3.10.9/Frameworks/Python.framework/Versions/3.10/lib/python3.10/asyncio/base_events.py\", line 1906, in _run_once\n  File \"/opt/homebrew/Cellar/python@3.10/3.10.9/Frameworks/Python.framework/Versions/3.10/lib/python3.10/asyncio/events.py\", line 80, in _run\n  File \"/Users/Cohort23/Library/Python/3.10/lib/python/site-packages/ipykernel/kernelbase.py\", line 545, in dispatch_queue\n  File \"/Users/Cohort23/Library/Python/3.10/lib/python/site-packages/ipykernel/kernelbase.py\", line 534, in process_one\n  File \"/Users/Cohort23/Library/Python/3.10/lib/python/site-packages/ipykernel/kernelbase.py\", line 437, in dispatch_shell\n  File \"/Users/Cohort23/Library/Python/3.10/lib/python/site-packages/ipykernel/ipkernel.py\", line 362, in execute_request\n  File \"/Users/Cohort23/Library/Python/3.10/lib/python/site-packages/ipykernel/kernelbase.py\", line 778, in execute_request\n  File \"/Users/Cohort23/Library/Python/3.10/lib/python/site-packages/ipykernel/ipkernel.py\", line 449, in do_execute\n  File \"/Users/Cohort23/Library/Python/3.10/lib/python/site-packages/ipykernel/zmqshell.py\", line 549, in run_cell\n  File \"/Users/Cohort23/Library/Python/3.10/lib/python/site-packages/IPython/core/interactiveshell.py\", line 3075, in run_cell\n  File \"/Users/Cohort23/Library/Python/3.10/lib/python/site-packages/IPython/core/interactiveshell.py\", line 3130, in _run_cell\n  File \"/Users/Cohort23/Library/Python/3.10/lib/python/site-packages/IPython/core/async_helpers.py\", line 128, in _pseudo_sync_runner\n  File \"/Users/Cohort23/Library/Python/3.10/lib/python/site-packages/IPython/core/interactiveshell.py\", line 3334, in run_cell_async\n  File \"/Users/Cohort23/Library/Python/3.10/lib/python/site-packages/IPython/core/interactiveshell.py\", line 3517, in run_ast_nodes\n  File \"/Users/Cohort23/Library/Python/3.10/lib/python/site-packages/IPython/core/interactiveshell.py\", line 3577, in run_code\n  File \"/var/folders/8p/pcrgjd_n0wzclzb5tr97jd540000gr/T/ipykernel_95122/1060501748.py\", line 2, in <module>\n  File \"/Users/Cohort23/Library/Python/3.10/lib/python/site-packages/gpt_2_simple/gpt_2.py\", line 401, in load_gpt2\n  File \"/Users/Cohort23/Library/Python/3.10/lib/python/site-packages/tensorflow/python/training/saver.py\", line 934, in __init__\n  File \"/Users/Cohort23/Library/Python/3.10/lib/python/site-packages/tensorflow/python/training/saver.py\", line 946, in build\n  File \"/Users/Cohort23/Library/Python/3.10/lib/python/site-packages/tensorflow/python/training/saver.py\", line 974, in _build\n  File \"/Users/Cohort23/Library/Python/3.10/lib/python/site-packages/tensorflow/python/training/saver.py\", line 543, in _build_internal\n  File \"/Users/Cohort23/Library/Python/3.10/lib/python/site-packages/tensorflow/python/training/saver.py\", line 360, in _AddRestoreOps\n  File \"/Users/Cohort23/Library/Python/3.10/lib/python/site-packages/tensorflow/python/training/saver.py\", line 611, in bulk_restore\n  File \"/Users/Cohort23/Library/Python/3.10/lib/python/site-packages/tensorflow/python/ops/gen_io_ops.py\", line 1522, in restore_v2\n  File \"/Users/Cohort23/Library/Python/3.10/lib/python/site-packages/tensorflow/python/framework/op_def_library.py\", line 796, in _apply_op_helper\n  File \"/Users/Cohort23/Library/Python/3.10/lib/python/site-packages/tensorflow/python/framework/ops.py\", line 2701, in _create_op_internal\n  File \"/Users/Cohort23/Library/Python/3.10/lib/python/site-packages/tensorflow/python/framework/ops.py\", line 1196, in from_node_def\n",
      "\nDuring handling of the above exception, another exception occurred:\n",
      "\u001b[0;31mRuntimeError\u001b[0m                              Traceback (most recent call last)",
      "File \u001b[0;32m~/Library/Python/3.10/lib/python/site-packages/tensorflow/python/training/py_checkpoint_reader.py:66\u001b[0m, in \u001b[0;36mget_tensor\u001b[0;34m(self, tensor_str)\u001b[0m\n\u001b[1;32m     65\u001b[0m \u001b[39mtry\u001b[39;00m:\n\u001b[0;32m---> 66\u001b[0m   \u001b[39mreturn\u001b[39;00m CheckpointReader\u001b[39m.\u001b[39;49mCheckpointReader_GetTensor(\n\u001b[1;32m     67\u001b[0m       \u001b[39mself\u001b[39;49m, compat\u001b[39m.\u001b[39;49mas_bytes(tensor_str))\n\u001b[1;32m     68\u001b[0m \u001b[39m# TODO(b/143319754): Remove the RuntimeError casting logic once we resolve the\u001b[39;00m\n\u001b[1;32m     69\u001b[0m \u001b[39m# issue with throwing python exceptions from C++.\u001b[39;00m\n",
      "\u001b[0;31mRuntimeError\u001b[0m: Key _CHECKPOINTABLE_OBJECT_GRAPH not found in checkpoint",
      "\nDuring handling of the above exception, another exception occurred:\n",
      "\u001b[0;31mNotFoundError\u001b[0m                             Traceback (most recent call last)",
      "File \u001b[0;32m~/Library/Python/3.10/lib/python/site-packages/tensorflow/python/training/saver.py:1433\u001b[0m, in \u001b[0;36mSaver.restore\u001b[0;34m(self, sess, save_path)\u001b[0m\n\u001b[1;32m   1432\u001b[0m \u001b[39mtry\u001b[39;00m:\n\u001b[0;32m-> 1433\u001b[0m   names_to_keys \u001b[39m=\u001b[39m object_graph_key_mapping(save_path)\n\u001b[1;32m   1434\u001b[0m \u001b[39mexcept\u001b[39;00m errors\u001b[39m.\u001b[39mNotFoundError:\n\u001b[1;32m   1435\u001b[0m   \u001b[39m# 2. This is not an object-based checkpoint, which likely means there\u001b[39;00m\n\u001b[1;32m   1436\u001b[0m   \u001b[39m# is a graph mismatch. Re-raise the original error with\u001b[39;00m\n\u001b[1;32m   1437\u001b[0m   \u001b[39m# a helpful message (b/110263146)\u001b[39;00m\n",
      "File \u001b[0;32m~/Library/Python/3.10/lib/python/site-packages/tensorflow/python/training/saver.py:1755\u001b[0m, in \u001b[0;36mobject_graph_key_mapping\u001b[0;34m(checkpoint_path)\u001b[0m\n\u001b[1;32m   1754\u001b[0m reader \u001b[39m=\u001b[39m py_checkpoint_reader\u001b[39m.\u001b[39mNewCheckpointReader(checkpoint_path)\n\u001b[0;32m-> 1755\u001b[0m object_graph_string \u001b[39m=\u001b[39m reader\u001b[39m.\u001b[39;49mget_tensor(trackable\u001b[39m.\u001b[39;49mOBJECT_GRAPH_PROTO_KEY)\n\u001b[1;32m   1756\u001b[0m object_graph_proto \u001b[39m=\u001b[39m (trackable_object_graph_pb2\u001b[39m.\u001b[39mTrackableObjectGraph())\n",
      "File \u001b[0;32m~/Library/Python/3.10/lib/python/site-packages/tensorflow/python/training/py_checkpoint_reader.py:71\u001b[0m, in \u001b[0;36mget_tensor\u001b[0;34m(self, tensor_str)\u001b[0m\n\u001b[1;32m     70\u001b[0m \u001b[39mexcept\u001b[39;00m \u001b[39mRuntimeError\u001b[39;00m \u001b[39mas\u001b[39;00m e:\n\u001b[0;32m---> 71\u001b[0m   error_translator(e)\n",
      "File \u001b[0;32m~/Library/Python/3.10/lib/python/site-packages/tensorflow/python/training/py_checkpoint_reader.py:31\u001b[0m, in \u001b[0;36merror_translator\u001b[0;34m(e)\u001b[0m\n\u001b[1;32m     28\u001b[0m \u001b[39mif\u001b[39;00m \u001b[39m'\u001b[39m\u001b[39mnot found in checkpoint\u001b[39m\u001b[39m'\u001b[39m \u001b[39min\u001b[39;00m error_message \u001b[39mor\u001b[39;00m (\n\u001b[1;32m     29\u001b[0m     \u001b[39m'\u001b[39m\u001b[39mFailed to find any \u001b[39m\u001b[39m'\u001b[39m\n\u001b[1;32m     30\u001b[0m     \u001b[39m'\u001b[39m\u001b[39mmatching files for\u001b[39m\u001b[39m'\u001b[39m) \u001b[39min\u001b[39;00m error_message:\n\u001b[0;32m---> 31\u001b[0m   \u001b[39mraise\u001b[39;00m errors_impl\u001b[39m.\u001b[39mNotFoundError(\u001b[39mNone\u001b[39;00m, \u001b[39mNone\u001b[39;00m, error_message)\n\u001b[1;32m     32\u001b[0m \u001b[39melif\u001b[39;00m \u001b[39m'\u001b[39m\u001b[39mSliced checkpoints are not supported\u001b[39m\u001b[39m'\u001b[39m \u001b[39min\u001b[39;00m error_message \u001b[39mor\u001b[39;00m (\n\u001b[1;32m     33\u001b[0m     \u001b[39m'\u001b[39m\u001b[39mData type \u001b[39m\u001b[39m'\u001b[39m\n\u001b[1;32m     34\u001b[0m     \u001b[39m'\u001b[39m\u001b[39mnot \u001b[39m\u001b[39m'\u001b[39m\n\u001b[1;32m     35\u001b[0m     \u001b[39m'\u001b[39m\u001b[39msupported\u001b[39m\u001b[39m'\u001b[39m) \u001b[39min\u001b[39;00m error_message:\n",
      "\u001b[0;31mNotFoundError\u001b[0m: Key _CHECKPOINTABLE_OBJECT_GRAPH not found in checkpoint",
      "\nDuring handling of the above exception, another exception occurred:\n",
      "\u001b[0;31mNotFoundError\u001b[0m                             Traceback (most recent call last)",
      "Cell \u001b[0;32mIn[17], line 2\u001b[0m\n\u001b[1;32m      1\u001b[0m session \u001b[39m=\u001b[39m gpt2\u001b[39m.\u001b[39mstart_tf_sess()\n\u001b[0;32m----> 2\u001b[0m gpt2\u001b[39m.\u001b[39;49mload_gpt2(session, model_name\u001b[39m=\u001b[39;49m\u001b[39m\"\u001b[39;49m\u001b[39m124M\u001b[39;49m\u001b[39m\"\u001b[39;49m, reuse\u001b[39m=\u001b[39;49m\u001b[39mTrue\u001b[39;49;00m)\n",
      "File \u001b[0;32m~/Library/Python/3.10/lib/python/site-packages/gpt_2_simple/gpt_2.py:408\u001b[0m, in \u001b[0;36mload_gpt2\u001b[0;34m(sess, checkpoint, run_name, checkpoint_dir, model_name, model_dir, multi_gpu, reuse)\u001b[0m\n\u001b[1;32m    406\u001b[0m \u001b[39melse\u001b[39;00m:\n\u001b[1;32m    407\u001b[0m     \u001b[39mprint\u001b[39m(\u001b[39m'\u001b[39m\u001b[39mLoading checkpoint\u001b[39m\u001b[39m'\u001b[39m, ckpt)\n\u001b[0;32m--> 408\u001b[0m saver\u001b[39m.\u001b[39;49mrestore(sess, ckpt)\n",
      "File \u001b[0;32m~/Library/Python/3.10/lib/python/site-packages/tensorflow/python/training/saver.py:1438\u001b[0m, in \u001b[0;36mSaver.restore\u001b[0;34m(self, sess, save_path)\u001b[0m\n\u001b[1;32m   1433\u001b[0m   names_to_keys \u001b[39m=\u001b[39m object_graph_key_mapping(save_path)\n\u001b[1;32m   1434\u001b[0m \u001b[39mexcept\u001b[39;00m errors\u001b[39m.\u001b[39mNotFoundError:\n\u001b[1;32m   1435\u001b[0m   \u001b[39m# 2. This is not an object-based checkpoint, which likely means there\u001b[39;00m\n\u001b[1;32m   1436\u001b[0m   \u001b[39m# is a graph mismatch. Re-raise the original error with\u001b[39;00m\n\u001b[1;32m   1437\u001b[0m   \u001b[39m# a helpful message (b/110263146)\u001b[39;00m\n\u001b[0;32m-> 1438\u001b[0m   \u001b[39mraise\u001b[39;00m _wrap_restore_error_with_msg(\n\u001b[1;32m   1439\u001b[0m       err, \u001b[39m\"\u001b[39m\u001b[39ma Variable name or other graph key that is missing\u001b[39m\u001b[39m\"\u001b[39m)\n\u001b[1;32m   1441\u001b[0m \u001b[39m# This is an object-based checkpoint. We'll print a warning and then do\u001b[39;00m\n\u001b[1;32m   1442\u001b[0m \u001b[39m# the restore.\u001b[39;00m\n\u001b[1;32m   1443\u001b[0m logging\u001b[39m.\u001b[39mwarning(\n\u001b[1;32m   1444\u001b[0m     \u001b[39m\"\u001b[39m\u001b[39mRestoring an object-based checkpoint using a name-based saver. This \u001b[39m\u001b[39m\"\u001b[39m\n\u001b[1;32m   1445\u001b[0m     \u001b[39m\"\u001b[39m\u001b[39mmay be somewhat fragile, and will re-build the Saver. Instead, \u001b[39m\u001b[39m\"\u001b[39m\n\u001b[1;32m   1446\u001b[0m     \u001b[39m\"\u001b[39m\u001b[39mconsider loading object-based checkpoints using \u001b[39m\u001b[39m\"\u001b[39m\n\u001b[1;32m   1447\u001b[0m     \u001b[39m\"\u001b[39m\u001b[39mtf.train.Checkpoint().\u001b[39m\u001b[39m\"\u001b[39m)\n",
      "\u001b[0;31mNotFoundError\u001b[0m: Restoring from checkpoint failed. This is most likely due to a Variable name or other graph key that is missing from the checkpoint. Please ensure that you have not altered the graph expected based on the checkpoint. Original error:\n\nGraph execution error:\n\nDetected at node 'save_1/RestoreV2' defined at (most recent call last):\n    File \"/opt/homebrew/Cellar/python@3.10/3.10.9/Frameworks/Python.framework/Versions/3.10/lib/python3.10/runpy.py\", line 196, in _run_module_as_main\n    File \"/opt/homebrew/Cellar/python@3.10/3.10.9/Frameworks/Python.framework/Versions/3.10/lib/python3.10/runpy.py\", line 86, in _run_code\n    File \"/Users/Cohort23/Library/Python/3.10/lib/python/site-packages/ipykernel_launcher.py\", line 18, in <module>\n    File \"/Users/Cohort23/Library/Python/3.10/lib/python/site-packages/traitlets/config/application.py\", line 1075, in launch_instance\n    File \"/Users/Cohort23/Library/Python/3.10/lib/python/site-packages/ipykernel/kernelapp.py\", line 739, in start\n    File \"/Users/Cohort23/Library/Python/3.10/lib/python/site-packages/tornado/platform/asyncio.py\", line 205, in start\n    File \"/opt/homebrew/Cellar/python@3.10/3.10.9/Frameworks/Python.framework/Versions/3.10/lib/python3.10/asyncio/base_events.py\", line 603, in run_forever\n    File \"/opt/homebrew/Cellar/python@3.10/3.10.9/Frameworks/Python.framework/Versions/3.10/lib/python3.10/asyncio/base_events.py\", line 1906, in _run_once\n    File \"/opt/homebrew/Cellar/python@3.10/3.10.9/Frameworks/Python.framework/Versions/3.10/lib/python3.10/asyncio/events.py\", line 80, in _run\n    File \"/Users/Cohort23/Library/Python/3.10/lib/python/site-packages/ipykernel/kernelbase.py\", line 545, in dispatch_queue\n    File \"/Users/Cohort23/Library/Python/3.10/lib/python/site-packages/ipykernel/kernelbase.py\", line 534, in process_one\n    File \"/Users/Cohort23/Library/Python/3.10/lib/python/site-packages/ipykernel/kernelbase.py\", line 437, in dispatch_shell\n    File \"/Users/Cohort23/Library/Python/3.10/lib/python/site-packages/ipykernel/ipkernel.py\", line 362, in execute_request\n    File \"/Users/Cohort23/Library/Python/3.10/lib/python/site-packages/ipykernel/kernelbase.py\", line 778, in execute_request\n    File \"/Users/Cohort23/Library/Python/3.10/lib/python/site-packages/ipykernel/ipkernel.py\", line 449, in do_execute\n    File \"/Users/Cohort23/Library/Python/3.10/lib/python/site-packages/ipykernel/zmqshell.py\", line 549, in run_cell\n    File \"/Users/Cohort23/Library/Python/3.10/lib/python/site-packages/IPython/core/interactiveshell.py\", line 3075, in run_cell\n    File \"/Users/Cohort23/Library/Python/3.10/lib/python/site-packages/IPython/core/interactiveshell.py\", line 3130, in _run_cell\n    File \"/Users/Cohort23/Library/Python/3.10/lib/python/site-packages/IPython/core/async_helpers.py\", line 128, in _pseudo_sync_runner\n    File \"/Users/Cohort23/Library/Python/3.10/lib/python/site-packages/IPython/core/interactiveshell.py\", line 3334, in run_cell_async\n    File \"/Users/Cohort23/Library/Python/3.10/lib/python/site-packages/IPython/core/interactiveshell.py\", line 3517, in run_ast_nodes\n    File \"/Users/Cohort23/Library/Python/3.10/lib/python/site-packages/IPython/core/interactiveshell.py\", line 3577, in run_code\n    File \"/var/folders/8p/pcrgjd_n0wzclzb5tr97jd540000gr/T/ipykernel_95122/1060501748.py\", line 2, in <module>\n    File \"/Users/Cohort23/Library/Python/3.10/lib/python/site-packages/gpt_2_simple/gpt_2.py\", line 401, in load_gpt2\nNode: 'save_1/RestoreV2'\nKey Variable not found in checkpoint\n\t [[{{node save_1/RestoreV2}}]]\n\nOriginal stack trace for 'save_1/RestoreV2':\n  File \"/opt/homebrew/Cellar/python@3.10/3.10.9/Frameworks/Python.framework/Versions/3.10/lib/python3.10/runpy.py\", line 196, in _run_module_as_main\n  File \"/opt/homebrew/Cellar/python@3.10/3.10.9/Frameworks/Python.framework/Versions/3.10/lib/python3.10/runpy.py\", line 86, in _run_code\n  File \"/Users/Cohort23/Library/Python/3.10/lib/python/site-packages/ipykernel_launcher.py\", line 18, in <module>\n  File \"/Users/Cohort23/Library/Python/3.10/lib/python/site-packages/traitlets/config/application.py\", line 1075, in launch_instance\n  File \"/Users/Cohort23/Library/Python/3.10/lib/python/site-packages/ipykernel/kernelapp.py\", line 739, in start\n  File \"/Users/Cohort23/Library/Python/3.10/lib/python/site-packages/tornado/platform/asyncio.py\", line 205, in start\n  File \"/opt/homebrew/Cellar/python@3.10/3.10.9/Frameworks/Python.framework/Versions/3.10/lib/python3.10/asyncio/base_events.py\", line 603, in run_forever\n  File \"/opt/homebrew/Cellar/python@3.10/3.10.9/Frameworks/Python.framework/Versions/3.10/lib/python3.10/asyncio/base_events.py\", line 1906, in _run_once\n  File \"/opt/homebrew/Cellar/python@3.10/3.10.9/Frameworks/Python.framework/Versions/3.10/lib/python3.10/asyncio/events.py\", line 80, in _run\n  File \"/Users/Cohort23/Library/Python/3.10/lib/python/site-packages/ipykernel/kernelbase.py\", line 545, in dispatch_queue\n  File \"/Users/Cohort23/Library/Python/3.10/lib/python/site-packages/ipykernel/kernelbase.py\", line 534, in process_one\n  File \"/Users/Cohort23/Library/Python/3.10/lib/python/site-packages/ipykernel/kernelbase.py\", line 437, in dispatch_shell\n  File \"/Users/Cohort23/Library/Python/3.10/lib/python/site-packages/ipykernel/ipkernel.py\", line 362, in execute_request\n  File \"/Users/Cohort23/Library/Python/3.10/lib/python/site-packages/ipykernel/kernelbase.py\", line 778, in execute_request\n  File \"/Users/Cohort23/Library/Python/3.10/lib/python/site-packages/ipykernel/ipkernel.py\", line 449, in do_execute\n  File \"/Users/Cohort23/Library/Python/3.10/lib/python/site-packages/ipykernel/zmqshell.py\", line 549, in run_cell\n  File \"/Users/Cohort23/Library/Python/3.10/lib/python/site-packages/IPython/core/interactiveshell.py\", line 3075, in run_cell\n  File \"/Users/Cohort23/Library/Python/3.10/lib/python/site-packages/IPython/core/interactiveshell.py\", line 3130, in _run_cell\n  File \"/Users/Cohort23/Library/Python/3.10/lib/python/site-packages/IPython/core/async_helpers.py\", line 128, in _pseudo_sync_runner\n  File \"/Users/Cohort23/Library/Python/3.10/lib/python/site-packages/IPython/core/interactiveshell.py\", line 3334, in run_cell_async\n  File \"/Users/Cohort23/Library/Python/3.10/lib/python/site-packages/IPython/core/interactiveshell.py\", line 3517, in run_ast_nodes\n  File \"/Users/Cohort23/Library/Python/3.10/lib/python/site-packages/IPython/core/interactiveshell.py\", line 3577, in run_code\n  File \"/var/folders/8p/pcrgjd_n0wzclzb5tr97jd540000gr/T/ipykernel_95122/1060501748.py\", line 2, in <module>\n  File \"/Users/Cohort23/Library/Python/3.10/lib/python/site-packages/gpt_2_simple/gpt_2.py\", line 401, in load_gpt2\n  File \"/Users/Cohort23/Library/Python/3.10/lib/python/site-packages/tensorflow/python/training/saver.py\", line 934, in __init__\n  File \"/Users/Cohort23/Library/Python/3.10/lib/python/site-packages/tensorflow/python/training/saver.py\", line 946, in build\n  File \"/Users/Cohort23/Library/Python/3.10/lib/python/site-packages/tensorflow/python/training/saver.py\", line 974, in _build\n  File \"/Users/Cohort23/Library/Python/3.10/lib/python/site-packages/tensorflow/python/training/saver.py\", line 543, in _build_internal\n  File \"/Users/Cohort23/Library/Python/3.10/lib/python/site-packages/tensorflow/python/training/saver.py\", line 360, in _AddRestoreOps\n  File \"/Users/Cohort23/Library/Python/3.10/lib/python/site-packages/tensorflow/python/training/saver.py\", line 611, in bulk_restore\n  File \"/Users/Cohort23/Library/Python/3.10/lib/python/site-packages/tensorflow/python/ops/gen_io_ops.py\", line 1522, in restore_v2\n  File \"/Users/Cohort23/Library/Python/3.10/lib/python/site-packages/tensorflow/python/framework/op_def_library.py\", line 796, in _apply_op_helper\n  File \"/Users/Cohort23/Library/Python/3.10/lib/python/site-packages/tensorflow/python/framework/ops.py\", line 2701, in _create_op_internal\n  File \"/Users/Cohort23/Library/Python/3.10/lib/python/site-packages/tensorflow/python/framework/ops.py\", line 1196, in from_node_def\n"
     ]
    }
   ],
   "source": [
    "session = gpt2.start_tf_sess()\n",
    "gpt2.load_gpt2(session, model_name=\"124M\", reuse=True)\n"
   ]
  },
  {
   "cell_type": "code",
   "execution_count": null,
   "metadata": {},
   "outputs": [],
   "source": [
    "gpt2.generate(session, prefix = \"I went to the the store to get some carrots for my soup\")"
   ]
  },
  {
   "attachments": {},
   "cell_type": "markdown",
   "metadata": {},
   "source": [
    "# Shakespeare GPT"
   ]
  },
  {
   "cell_type": "code",
   "execution_count": 2,
   "metadata": {},
   "outputs": [],
   "source": [
    "session2 = gpt2.start_tf_sess()"
   ]
  },
  {
   "cell_type": "code",
   "execution_count": 3,
   "metadata": {},
   "outputs": [
    {
     "name": "stderr",
     "output_type": "stream",
     "text": [
      "WARNING: All log messages before absl::InitializeLog() is called are written to STDERR\n",
      "I0000 00:00:1732547289.262269 8966245 mlir_graph_optimization_pass.cc:401] MLIR V1 optimization pass is not enabled\n"
     ]
    },
    {
     "name": "stdout",
     "output_type": "stream",
     "text": [
      "Loading checkpoint models/124M/model.ckpt\n",
      "INFO:tensorflow:Restoring parameters from models/124M/model.ckpt\n",
      "Loading dataset...\n"
     ]
    },
    {
     "name": "stderr",
     "output_type": "stream",
     "text": [
      "100%|██████████| 1/1 [00:00<00:00,  1.42it/s]\n"
     ]
    },
    {
     "name": "stdout",
     "output_type": "stream",
     "text": [
      "dataset has 338025 tokens\n",
      "Training...\n",
      "[1 | 20.86] loss=4.15 avg=4.15\n",
      "[2 | 40.79] loss=3.91 avg=4.03\n",
      "[3 | 61.36] loss=3.77 avg=3.94\n",
      "[4 | 80.52] loss=3.68 avg=3.88\n",
      "[5 | 99.28] loss=3.63 avg=3.83\n",
      "[6 | 118.31] loss=3.93 avg=3.84\n",
      "[7 | 137.19] loss=3.69 avg=3.82\n",
      "[8 | 156.31] loss=3.83 avg=3.82\n",
      "[9 | 175.14] loss=3.46 avg=3.78\n",
      "[10 | 193.95] loss=3.64 avg=3.77\n",
      "[11 | 212.96] loss=3.67 avg=3.76\n",
      "[12 | 231.47] loss=3.54 avg=3.74\n",
      "[13 | 252.35] loss=3.45 avg=3.71\n",
      "[14 | 273.55] loss=3.71 avg=3.71\n",
      "[15 | 291.24] loss=3.41 avg=3.69\n",
      "[16 | 309.38] loss=3.16 avg=3.66\n",
      "[17 | 328.77] loss=3.42 avg=3.64\n",
      "[18 | 348.19] loss=3.51 avg=3.63\n",
      "[19 | 366.26] loss=3.45 avg=3.62\n",
      "[20 | 387.89] loss=3.56 avg=3.62\n",
      "[21 | 406.87] loss=3.43 avg=3.61\n",
      "[22 | 426.20] loss=3.43 avg=3.60\n",
      "[23 | 445.88] loss=3.30 avg=3.59\n",
      "[24 | 464.76] loss=3.69 avg=3.59\n",
      "[25 | 483.87] loss=3.52 avg=3.59\n",
      "[26 | 502.96] loss=3.54 avg=3.59\n",
      "[27 | 521.40] loss=3.38 avg=3.58\n",
      "[28 | 539.67] loss=3.52 avg=3.57\n",
      "[29 | 558.05] loss=3.55 avg=3.57\n",
      "[30 | 576.91] loss=3.52 avg=3.57\n",
      "[31 | 595.30] loss=3.51 avg=3.57\n",
      "[32 | 613.52] loss=3.45 avg=3.56\n",
      "[33 | 631.90] loss=3.58 avg=3.56\n",
      "[34 | 650.12] loss=3.38 avg=3.56\n",
      "[35 | 668.92] loss=3.39 avg=3.55\n",
      "[36 | 687.36] loss=3.55 avg=3.55\n",
      "[37 | 706.41] loss=3.25 avg=3.54\n",
      "[38 | 726.12] loss=3.14 avg=3.53\n",
      "[39 | 743.95] loss=3.42 avg=3.53\n",
      "[40 | 761.11] loss=3.45 avg=3.52\n",
      "[41 | 779.10] loss=3.46 avg=3.52\n",
      "[42 | 796.06] loss=3.08 avg=3.51\n",
      "[43 | 813.34] loss=3.41 avg=3.51\n",
      "[44 | 830.70] loss=3.20 avg=3.50\n",
      "[45 | 849.17] loss=3.50 avg=3.50\n",
      "[46 | 868.73] loss=3.43 avg=3.50\n",
      "[47 | 886.99] loss=3.15 avg=3.49\n",
      "[48 | 904.83] loss=3.58 avg=3.49\n",
      "[49 | 923.29] loss=3.27 avg=3.48\n",
      "[50 | 941.96] loss=3.51 avg=3.48\n",
      "[51 | 960.66] loss=3.23 avg=3.48\n",
      "[52 | 979.24] loss=3.20 avg=3.47\n",
      "[53 | 997.25] loss=3.43 avg=3.47\n",
      "[54 | 1015.23] loss=3.38 avg=3.47\n",
      "[55 | 1033.02] loss=3.33 avg=3.47\n",
      "[56 | 1050.74] loss=3.21 avg=3.46\n",
      "[57 | 1068.46] loss=3.35 avg=3.46\n",
      "[58 | 1086.71] loss=3.18 avg=3.45\n",
      "[59 | 1106.48] loss=3.30 avg=3.45\n",
      "[60 | 1125.25] loss=3.32 avg=3.44\n",
      "[61 | 1144.53] loss=3.03 avg=3.44\n",
      "[62 | 1162.10] loss=3.19 avg=3.43\n",
      "[63 | 1179.38] loss=3.37 avg=3.43\n",
      "[64 | 1197.30] loss=3.08 avg=3.42\n",
      "[65 | 1215.32] loss=3.18 avg=3.42\n",
      "[66 | 1233.46] loss=3.15 avg=3.41\n",
      "[67 | 1251.63] loss=3.30 avg=3.41\n",
      "[68 | 1269.52] loss=3.47 avg=3.41\n",
      "[69 | 1286.84] loss=3.14 avg=3.41\n",
      "[70 | 1304.21] loss=3.27 avg=3.40\n",
      "[71 | 1322.24] loss=3.11 avg=3.40\n",
      "[72 | 1339.72] loss=3.34 avg=3.40\n",
      "[73 | 1356.96] loss=3.13 avg=3.39\n",
      "[74 | 1374.68] loss=3.14 avg=3.39\n",
      "[75 | 1392.04] loss=3.17 avg=3.38\n",
      "[76 | 1409.68] loss=3.46 avg=3.38\n",
      "[77 | 1426.46] loss=3.36 avg=3.38\n",
      "[78 | 1444.04] loss=3.05 avg=3.38\n",
      "[79 | 1461.81] loss=3.10 avg=3.37\n",
      "[80 | 1479.32] loss=3.30 avg=3.37\n",
      "[81 | 1497.02] loss=3.54 avg=3.37\n",
      "[82 | 1513.88] loss=3.28 avg=3.37\n",
      "[83 | 1531.34] loss=3.03 avg=3.37\n",
      "[84 | 1550.90] loss=3.32 avg=3.36\n",
      "[85 | 1571.69] loss=3.36 avg=3.36\n",
      "[86 | 1589.06] loss=3.29 avg=3.36\n",
      "[87 | 1605.80] loss=3.31 avg=3.36\n",
      "[88 | 1623.31] loss=3.41 avg=3.36\n",
      "[89 | 1640.07] loss=3.23 avg=3.36\n",
      "[90 | 1657.12] loss=3.18 avg=3.36\n",
      "[91 | 1674.18] loss=3.27 avg=3.36\n",
      "[92 | 1691.37] loss=2.98 avg=3.35\n",
      "[93 | 1710.03] loss=3.39 avg=3.35\n",
      "[94 | 1728.12] loss=3.37 avg=3.35\n",
      "[95 | 1746.88] loss=3.08 avg=3.35\n",
      "[96 | 1764.08] loss=3.03 avg=3.34\n",
      "[97 | 1780.95] loss=3.17 avg=3.34\n",
      "[98 | 1798.16] loss=3.15 avg=3.34\n",
      "[99 | 1814.88] loss=3.37 avg=3.34\n",
      "[100 | 1833.70] loss=3.07 avg=3.33\n",
      "Saving checkpoint/Shakespeare/model-100\n"
     ]
    }
   ],
   "source": [
    "gpt2.finetune(\n",
    "    session2,\n",
    "    \"Shakespere.txt\",\n",
    "    model_name = \"124M\",\n",
    "    steps = 100,\n",
    "    run_name = \"Shakespeare\"\n",
    ")"
   ]
  },
  {
   "cell_type": "code",
   "execution_count": 4,
   "metadata": {},
   "outputs": [
    {
     "name": "stdout",
     "output_type": "stream",
     "text": [
      "Inigo Montoya: My name is Inigo Montoya, you killed my father prepare to die.\n",
      "\n",
      "Romeo:\n",
      "And, my lord, are you man enough\n",
      "To do what I say?\n",
      "\n",
      "BENVOLIO:\n",
      "Ay, my lord, I tell you. I have a warrant from my father,\n",
      "Whose son thou shalt not be slain.\n",
      "\n",
      "Romeo:\n",
      "I do not think I can be slain.\n",
      "\n",
      "BENVOLIO:\n",
      "The news is good, my lord, and I am ready.\n",
      "\n",
      "Romeo:\n",
      "I have promised my son, my son, my son\n",
      "My dear son, my dear son,\n",
      "And I'll to my son's death; but, my lord,\n",
      "I must not make them be slain:\n",
      "They shall be slain, and my son's;\n",
      "But my dear son, my dear son,\n",
      "Is dead, and my son's dead.\n",
      "\n",
      "BENVOLIO:\n",
      "My lord, my dear son, I die,\n",
      "And my dear son, my dear son,\n",
      "Is dead, and my son's dead.\n",
      "\n",
      "Romeo:\n",
      "I die, and my son is dead.\n",
      "\n",
      "BENVOLIO:\n",
      "My dear son, I die, and my dear son,\n",
      "My dear son, my dear son, is dead.\n",
      "\n",
      "Romeo:\n",
      "My dear son, I die, and my dear son,\n",
      "My dear son, my dear son, is dead.\n",
      "\n",
      "BENVOLIO:\n",
      "My dear son, I die, and my dear son,\n",
      "My dear son, my dear son, is dead.\n",
      "\n",
      "ROMEO:\n",
      "My dear son, I die, and my dear son,\n",
      "My dear son, my dear son, is dead.\n",
      "\n",
      "BENVOLIO:\n",
      "My dear son, I die, and my dear son,\n",
      "My dear son, my dear son, is dead.\n",
      "\n",
      "ROMEO:\n",
      "My dear son, I die, and my dear son,\n",
      "My dear son, my dear son, is dead.\n",
      "\n",
      "BENVOLIO:\n",
      "My dear son, I die, and my dear son,\n",
      "My dear son, my dear son, is dead.\n",
      "\n",
      "ROMEO:\n",
      "My dear son, I die, and my dear son,\n",
      "My dear son, my dear son, is dead.\n",
      "\n",
      "BENVOLIO:\n",
      "My dear son, I die, and my dear son,\n",
      "My dear son, my dear son, is dead.\n",
      "\n",
      "Romeo:\n",
      "My dear son, I die, and my dear son,\n",
      "My dear son, my dear son, is dead.\n",
      "\n",
      "BENVOLIO:\n",
      "My dear son, I die, and my dear son,\n",
      "My dear son, my dear son, is dead.\n",
      "\n",
      "ROMEO:\n",
      "My dear son, I die, and my dear son,\n",
      "My dear son, my dear son, is dead.\n",
      "\n",
      "BENVOLIO:\n",
      "My dear son, I die, and my dear son,\n",
      "My dear son, my dear son, is dead.\n",
      "\n",
      "ROMEO:\n",
      "My dear son, I die, and my dear son,\n",
      "My dear son, my dear son, is dead.\n",
      "\n",
      "BENVOLIO:\n",
      "My dear son, I die, and my dear son,\n",
      "My dear son, my dear son, is dead.\n",
      "\n",
      "ROMEO:\n",
      "My dear son, I die, and my dear son,\n",
      "My dear son, my dear son, is dead.\n",
      "\n",
      "BENVOLIO:\n",
      "My dear son, I die, and my dear son,\n",
      "My dear son, my dear son, is dead.\n",
      "\n",
      "ROMEO:\n",
      "My dear son, I die, and my dear son,\n",
      "My dear son, my dear son, is dead.\n",
      "\n",
      "BENVOLIO:\n",
      "My dear son, I die, and my dear son,\n",
      "My dear son, my dear son, is dead.\n",
      "\n",
      "ROMEO:\n",
      "My dear son, I die, and my dear son,\n",
      "My dear son, my dear son, is dead.\n",
      "\n",
      "BENVOLIO:\n",
      "My dear son, I die, and my dear son,\n",
      "My dear son, my dear son, is dead.\n",
      "\n",
      "ROMEO:\n",
      "My dear son, I die, and my dear son,\n",
      "My dear son, my dear son, is dead.\n",
      "\n",
      "BENVOLIO:\n",
      "My dear son, I die, and my dear son,\n",
      "My dear son, my dear son, is dead.\n",
      "\n",
      "ROMEO:\n",
      "My dear son, I die, and my dear son,\n",
      "My dear son, my dear son, is dead.\n",
      "\n",
      "BENVOLIO:\n",
      "My dear son, I die,\n"
     ]
    }
   ],
   "source": [
    "gpt2.generate(\n",
    "    session2,\n",
    "    prefix = \"Inigo Montoya: My name is Inigo Montoya, you killed my father prepare to die.\",\n",
    "    run_name = \"Shakespeare\"\n",
    ")"
   ]
  }
 ],
 "metadata": {
  "kernelspec": {
   "display_name": "Python 3",
   "language": "python",
   "name": "python3"
  },
  "language_info": {
   "codemirror_mode": {
    "name": "ipython",
    "version": 3
   },
   "file_extension": ".py",
   "mimetype": "text/x-python",
   "name": "python",
   "nbconvert_exporter": "python",
   "pygments_lexer": "ipython3",
   "version": "3.10.9 (main, Dec 15 2022, 10:44:50) [Clang 14.0.0 (clang-1400.0.29.202)]"
  },
  "orig_nbformat": 4,
  "vscode": {
   "interpreter": {
    "hash": "b0fa6594d8f4cbf19f97940f81e996739fb7646882a419484c72d19e05852a7e"
   }
  }
 },
 "nbformat": 4,
 "nbformat_minor": 2
}
